{
 "cells": [
  {
   "cell_type": "markdown",
   "metadata": {},
   "source": [
    "# Convoluciones 2D\n",
    "En este ejercicio implementaremos convoluciones en 2D utilizando numpy. El objetivo es comprender el funcionamiento de estas operaciones para luego poder utilizarlas de manera mas eficaz al definir redes neuronales.\n",
    "\n",
    "Comenzaremos implementando convoluciones 2D en imagenes de escala de grises (un solo canal de color). Implementaremos primero una versión sin stride, y luego una con ello. Por último implementaremos una versión 2D que permita procesar imagenes con varios canales, ya sea una imagen RGB (tres canales) o un feature map con una cantidad arbitraria de canales.\n",
    "\n",
    "En este notebook mostraremos imágenes y animaciones de:\n",
    "* [1] Vincent Dumoulin, Francesco Visin - [A guide to convolution arithmetic for deep learning](https://arxiv.org/abs/1603.07285)\n",
    "* [2] Arden Dertat [Applied Deep Learning - Part 4: Convolutional Neural Networks](https://towardsdatascience.com/applied-deep-learning-part-4-convolutional-neural-networks-584bc134c1e2)\n",
    "* [3] [cs231 stanford](http://cs231n.github.io/convolutional-networks/)"
   ]
  },
  {
   "cell_type": "code",
   "execution_count": 1,
   "metadata": {},
   "outputs": [],
   "source": [
    "import numpy as np\n",
    "import matplotlib.pyplot as plt\n",
    "import skimage.io as io\n",
    "\n",
    "def equal_array(verdadero,calculado):\n",
    "    if verdadero.shape != calculado.shape:\n",
    "        print(\"Incorrecto: Los vectores tienen tamaños distintos\")\n",
    "        print(\"verdadero.shape = \", verdadero.shape)\n",
    "        print(\"calculado.shape = \", calculado.shape)\n",
    "        return False\n",
    "    equals=np.all(verdadero==calculado)\n",
    "    if equals:\n",
    "        print(\"Correcto: Los arreglos son iguales.\")\n",
    "        return True\n",
    "    else:\n",
    "        print(\"Incorrecto: Los arreglos no son iguales.\")\n",
    "        print(\"Debió obtener:\")\n",
    "        print(verdadero)\n",
    "        print(\"Obtuvo:\")\n",
    "        print(calculado)\n",
    "        return False\n",
    "\n",
    "def impar(x): \n",
    "    return x%2 == 1\n",
    "\n",
    "\n",
    "def dibujar_imagenes(x,y,y_verdadero,vmax,vmin=0):\n",
    "    \n",
    "    f,(ax1,ax2,ax3)=plt.subplots(1,3,figsize=(15,10))\n",
    "    ax1.imshow(x,cmap=\"gray\",vmin=vmin,vmax=vmax)\n",
    "    ax1.set_title(\"Imagen original\")\n",
    "    ax2.imshow(y_verdadero,cmap=\"gray\",vmin=vmin,vmax=vmax)\n",
    "    ax2.set_title(\"Imagen esperada\")\n",
    "    ax3.imshow(y,cmap=\"gray\",vmin=vmin,vmax=vmax)\n",
    "    ax3.set_title(\"Imagen calculada\")\n",
    "    \n",
    "def dibujar_imagenes_rgb(x_rgb,y,y_verdadero):\n",
    "    f,(ax1,ax2,ax3)=plt.subplots(1,3,figsize=(15,10))\n",
    "    ax1.imshow(x_rgb)\n",
    "    ax1.set_title(\"Imagen original\")\n",
    "    \n",
    "    ax2.imshow(y_verdadero[:,:,0],cmap=\"gray\")\n",
    "    ax2.set_title(\"Imagen esperada\")\n",
    "    ax3.imshow(y[:,:,0],cmap=\"gray\")\n",
    "    ax3.set_title(\"Imagen calculada\")\n",
    "    "
   ]
  },
  {
   "cell_type": "markdown",
   "metadata": {},
   "source": [
    "## 1. Convoluciones 2D\n",
    "En este ejercicio deberas implementar convoluciones para señales de 2D (imágenes). Esto quiere decir que el vector de entrada `x` tiene dos dimensiones, así como el vector de pesos `w`.\n",
    "\n",
    "Ejemplo 1: \n",
    "![](conv2d/no_padding_no_strides.gif)\n",
    "\n",
    "Ejemplo 2:\n",
    "![](conv2d/tds1.png)\n",
    "![](conv2d/tds2.png)\n",
    "![](conv2d/tds3.png)\n",
    "\n",
    "Ejemplo 2 (animado):\n",
    "![](conv2d/tds.gif)\n"
   ]
  },
  {
   "cell_type": "code",
   "execution_count": 7,
   "metadata": {},
   "outputs": [
    {
     "name": "stdout",
     "output_type": "stream",
     "text": [
      "Correcto: Los arreglos son iguales.\n"
     ]
    },
    {
     "data": {
      "image/png": "[encoded data removed]",
      "text/plain": [
       "<Figure size 1080x720 with 3 Axes>"
      ]
     },
     "metadata": {
      "needs_background": "light"
     },
     "output_type": "display_data"
    }
   ],
   "source": [
    "def conv2d_simple(w, x):\n",
    "    # NOTA: el vector de pesos se llama `w`\n",
    "    # pero también se le dice `w` al ancho de la imagen\n",
    "    # por `width`. Al alto se le dice `h` por height\n",
    "    \n",
    "    hx,wx = x.shape #Dims de la matriz de entrada (imagen), alto y ancho\n",
    "    hd,wd = w.shape #Dims de la matriz de pesos, alto y ancho\n",
    "    assert impar(hd) and impar(wd), \"Las dimensiones de w deben ser números impares\"\n",
    "    hy = hx - hd + 1 #Alto de la matriz de salida (imagen)\n",
    "    wy = wx - wd + 1 #Ancho de la matriz de salida (imagen)\n",
    "    y = np.zeros( (hy,wy) ) #Vector de salida\n",
    "    \n",
    "     ## TODO : COMPLETAR\n",
    "     #Calcular la convolución y guardarla en el vector Y\n",
    "     # Pista: Usar un doble for y las variables hy/wy\n",
    "    \n",
    "    # Idea: Tenemos w y x. Para obtener el valor de aplicar el kernel\n",
    "    #  realizamos una multiplicacion de hadamard, y sumamos sus valores\n",
    "    # la multiplicacion de hadamard es una multiplicacion de a elementos, es decir\n",
    "    # sean x e y, h la multiplicacion: h[i,j] = x[i,j] * y[i,j]\n",
    "    # en numpy, la multiplicacion de hadamard es np.multiply\n",
    "    \n",
    "    for i in range(hy):    \n",
    "        for j in range(wy):\n",
    "            y[i,j] = np.multiply(x[i:i+hd,j:j+wd],w).sum()\n",
    "        \n",
    "        \n",
    "\n",
    "     ## FIN TODO    \n",
    "    \n",
    "    return y\n",
    "\n",
    "w = np.array([[1, 0, 1],\n",
    "              [0, 1, 0],\n",
    "              [1, 0, 1]\n",
    "             ])\n",
    "\n",
    "x = np.array ([[1,1,1,0,0],\n",
    "               [0,1,1,1,0],\n",
    "               [0,0,1,1,1],\n",
    "               [0,0,1,1,0],\n",
    "               [0,1,1,0,0]\n",
    "              ])\n",
    "\n",
    "y_verdadero = np.array([[4,3,4],\n",
    "                        [2,4,3],\n",
    "                        [2,3,4],\n",
    "                       ])\n",
    "y = conv2d_simple(w, x)\n",
    "\n",
    "equal_array(y_verdadero, y)\n",
    "\n",
    "dibujar_imagenes(x,y,y_verdadero,vmax=4)\n"
   ]
  },
  {
   "cell_type": "markdown",
   "metadata": {},
   "source": [
    "## 2. Convoluciones 2D con stride\n",
    "En este ejercicio deberas agregar la capacidad de hacer convoluciones con stride mayores a 1.  En este caso, tenemos dos parámetros de stride, que llamaremos `(stride_h,stride_w)`, para ver cuánto saltar verticalmente y horizontalmente.\n",
    "\n",
    "Ten en cuenta que ahora la imagen resultante va a ser más chica si algún stride es mayor a 1. \n",
    "\n",
    "Ejemplo con `stride = 2`: \n",
    "![](conv2d/no_padding_strides.gif)\n",
    "\n",
    "\n",
    "Otro ejemplo con `stride = 2`: \n",
    "![](conv2d/tds_stride.gif)"
   ]
  },
  {
   "cell_type": "code",
   "execution_count": 12,
   "metadata": {},
   "outputs": [
    {
     "name": "stdout",
     "output_type": "stream",
     "text": [
      "Correcto: Los arreglos son iguales.\n"
     ]
    },
    {
     "data": {
      "image/png": "[encoded data removed]",
      "text/plain": [
       "<Figure size 1080x720 with 3 Axes>"
      ]
     },
     "metadata": {
      "needs_background": "light"
     },
     "output_type": "display_data"
    }
   ],
   "source": [
    "def conv2d_stride(w, x,strides):\n",
    "    # NOTA: el vector de pesos se llama `w`\n",
    "    # pero también se le dice `w` al ancho de la imagen\n",
    "    # por `width`. Al alto se le dice `h` por height\n",
    "    \n",
    "    stride_h,stride_w=strides\n",
    "    \n",
    "    hx,wx = x.shape #Dims de la matriz de entrada (imagen), alto y ancho\n",
    "    hd,wd = w.shape #Dims de la matriz de pesos, alto y ancho\n",
    "    assert impar(hd) and impar(wd), \"Las dimensiones de w deben ser números impares\"\n",
    "    hy = int( (hx - hd)/stride_h) + 1 #Alto de la matriz de salida (imagen)\n",
    "    wy = int( (wx - wd)/stride_w) + 1 #Ancho de la matriz de salida (imagen)\n",
    "    y = np.zeros( (hy,wy) ) #Vector de salida\n",
    "    \n",
    "     ## TODO : COMPLETAR\n",
    "     #Calcular la convolución y guardarla en el vector Y\n",
    "     # Pista: Usar un doble for y las variables hy/wy\n",
    "\n",
    "    for i in range(hy):    \n",
    "        for j in range(wy):\n",
    "            i_stride = i*stride_h\n",
    "            j_stride = j*stride_w\n",
    "            y[i,j] = np.multiply(x[i_stride:i_stride+hd,j_stride:j_stride+wd],w).sum()\n",
    "        \n",
    "        \n",
    "        \n",
    "     ## FIN TODO    \n",
    "    \n",
    "    return y\n",
    "\n",
    "w = np.array([[1, 0, 1],\n",
    "              [0, 1, 0],\n",
    "              [1, 0, 1]\n",
    "             ])\n",
    "\n",
    "x = np.array ([[1,1,1,0,0],\n",
    "               [0,1,1,1,0],\n",
    "               [0,0,1,1,1],\n",
    "               [0,0,1,1,0],\n",
    "               [0,1,1,0,0]\n",
    "              ])\n",
    "\n",
    "y_verdadero = np.array([[4,4],\n",
    "                        [2,4],\n",
    "                       ])\n",
    "strides=(2,2)\n",
    "y = conv2d_stride(w, x,strides)\n",
    "\n",
    "equal_array(y_verdadero, y)\n",
    "\n",
    "dibujar_imagenes(x,y,y_verdadero,vmax=4)\n"
   ]
  },
  {
   "cell_type": "markdown",
   "metadata": {},
   "source": [
    "## 3. Padding para conservar la dimensión\n",
    "Como habrás notado al aplicar la convolución en los bordes el tamaño de la imagen de salida es menor que la de entrada, aún cuando `stride = 1`.\n",
    "\n",
    "Por ejemplo, sí el tamaño de `w` es 3x3, la salida tendrá dos filas y dos columnas menos, ya que se pierde una columna a la izquierda y otra a la derecha de la imagen, y lo mismo con las filas abajo y arriba.\n",
    "\n",
    "Sí el tamaño de `w` es 5x5 entonces la salida tendrá 4 filas y columnas menos, 2 a la izquierda de `x`, 2 a la derecha, 2 abajo y 2 arriba\n",
    "\n",
    "Una manera de evitar esto es rellenar la imagen de entrada con 0 en los bordes, agregando filas y columnas. Este proceso se llama agregar *padding*. Eligiendo el tamaño del relleno con cuidado podemos lograr que el tamaño de la imagen de salida sea igual que la de entrada (o mayor, si es necesario).\n",
    "\n",
    "Implementa la función `pad2d_1canal` que rellena un imagen (matriz 2D) con `0` en los bordes.\n"
   ]
  },
  {
   "cell_type": "code",
   "execution_count": 13,
   "metadata": {},
   "outputs": [
    {
     "name": "stdout",
     "output_type": "stream",
     "text": [
      "Correcto: Los arreglos son iguales.\n"
     ]
    },
    {
     "data": {
      "image/png": "[encoded data removed]",
      "text/plain": [
       "<Figure size 1080x720 with 3 Axes>"
      ]
     },
     "metadata": {
      "needs_background": "light"
     },
     "output_type": "display_data"
    }
   ],
   "source": [
    "def pad2d_1canal(x, pad_size):\n",
    "    h,w=x.shape\n",
    "    new_shape = (h+2*pad_size,w+2*pad_size)\n",
    "    x_relleno = np.zeros(new_shape )\n",
    "    \n",
    "    ##TODO: COMPLETAR\n",
    "    ##x_relleno debe ser igual que x\n",
    "    ##pero con pad_size ceros en cada borde\n",
    "    ## ya inicializamos x_relleno con ceros y el tamanio adecuado\n",
    "    x_relleno = np.pad(x,pad_size)\n",
    "\n",
    "\n",
    "\n",
    "    \n",
    "    ##FIN TODO\n",
    "\n",
    "    return x_relleno\n",
    "\n",
    "x = np.array([[1.0, 2, 3],\n",
    "              [1.0, 2, 3],\n",
    "              [1.0, 2, 3]\n",
    "             ])\n",
    "x_relleno = pad2d_1canal(x, 1)\n",
    "x_relleno_verdadero = np.array([[0,   0, 0, 0, 0],\n",
    "                                [0, 1.0, 2, 3, 0],\n",
    "                                [0, 1.0, 2, 3, 0],\n",
    "                                [0, 1.0, 2, 3, 0],\n",
    "                                [0,   0, 0, 0, 0]\n",
    "                               ])\n",
    "\n",
    "equal_array(x_relleno_verdadero, x_relleno)\n",
    "\n",
    "dibujar_imagenes(x,x_relleno,x_relleno_verdadero,vmax=3)\n"
   ]
  },
  {
   "cell_type": "markdown",
   "metadata": {},
   "source": [
    "## 4. Convoluciones con padding\n",
    "\n",
    "Implementa la función `conv2d_1canal` para que soporte el parametro `pad_size`. Antes de realizar la convolución, debe llamar a la función `pad2d_1canal` para generar un `x` relleno. \n",
    "\n",
    "![](conv2d/tds_padding.gif)\n",
    "![](conv2d/same_padding_no_strides.gif)"
   ]
  },
  {
   "cell_type": "code",
   "execution_count": 15,
   "metadata": {},
   "outputs": [
    {
     "name": "stdout",
     "output_type": "stream",
     "text": [
      "Correcto: Los arreglos son iguales.\n"
     ]
    },
    {
     "data": {
      "image/png": "[encoded data removed]",
      "text/plain": [
       "<Figure size 1080x720 with 3 Axes>"
      ]
     },
     "metadata": {
      "needs_background": "light"
     },
     "output_type": "display_data"
    }
   ],
   "source": [
    "def conv2d_1canal(w, x, strides = (1,1), pad_size = 0):\n",
    "    \n",
    "    ##TODO: IMPLEMENTAR\n",
    "    ##RELLENAR A X ANTES DE HACER LA CONVOLUCION\n",
    "    x_relleno = pad2d_1canal(x,pad_size)\n",
    "\n",
    "\n",
    "\n",
    "    ##FIN TODO\n",
    "    \n",
    "    return conv2d_stride(w, x_relleno, strides)\n",
    "\n",
    "w = np.array([[1, 0, 1],\n",
    "              [0, 1, 0],\n",
    "              [1, 0, 1]\n",
    "             ])\n",
    "\n",
    "x = np.array ([[1,1,1,0,0],\n",
    "               [0,1,1,1,0],\n",
    "               [0,0,1,1,1],\n",
    "               [0,0,1,1,0],\n",
    "               [0,1,1,0,0]\n",
    "              ])\n",
    "\n",
    "y_verdadero = np.array([[2.,2,3,1,1],\n",
    "                        [1, 4,3,4,1],\n",
    "                        [1, 2,4,3,3],\n",
    "                        [1, 2,3,4,1],\n",
    "                        [0,2,2,1,1],\n",
    "                       ],dtype=float)\n",
    "y = conv2d_1canal(w, x,pad_size=1)\n",
    "\n",
    "equal_array(y_verdadero, y)\n",
    "\n",
    "dibujar_imagenes(x,y,y_verdadero,vmax=4)\n"
   ]
  },
  {
   "cell_type": "markdown",
   "metadata": {},
   "source": [
    "## 5. Convoluciones 2D con varios canales\n",
    "\n",
    "Hasta ahora, las convoluciones siempre han sido sobre imágenes en escala de grises, es decir, con un solo canal. \n",
    "\n",
    "En este ejercicio deberás volver a implementar la convolución 2D, pero ahora para imágenes con varios canales. Es decir, `x` tiene la forma `(h,w,c)`, donde `h` es el alto, `w` el ancho y `c` la cantidad de canales. De la misma forma, ahora `w` tiene también tiene 3 dimensiones `(h,w,c)`; en este caso, el alto y el ancho son del filtro, por ende pueden ser distintos que el de `x`, pero la cantidad de canales debe ser la misma.\n",
    "\n",
    "![](conv2d/cs231out/conv2drgb.gif)\n",
    "\n",
    "\n",
    "\n"
   ]
  },
  {
   "cell_type": "code",
   "execution_count": 50,
   "metadata": {},
   "outputs": [
    {
     "name": "stdout",
     "output_type": "stream",
     "text": [
      "[[[0. 0. 0. 0. 0. 0. 0.]\n",
      "  [0. 0. 0. 1. 0. 2. 0.]\n",
      "  [0. 1. 0. 2. 0. 1. 0.]\n",
      "  [0. 1. 0. 2. 2. 0. 0.]\n",
      "  [0. 2. 0. 0. 2. 0. 0.]\n",
      "  [0. 2. 1. 2. 2. 0. 0.]\n",
      "  [0. 0. 0. 0. 0. 0. 0.]]\n",
      "\n",
      " [[0. 0. 0. 0. 0. 0. 0.]\n",
      "  [0. 2. 1. 2. 1. 1. 0.]\n",
      "  [0. 2. 1. 2. 0. 1. 0.]\n",
      "  [0. 0. 2. 1. 0. 1. 0.]\n",
      "  [0. 1. 2. 2. 2. 2. 0.]\n",
      "  [0. 0. 1. 2. 0. 1. 0.]\n",
      "  [0. 0. 0. 0. 0. 0. 0.]]\n",
      "\n",
      " [[0. 0. 0. 0. 0. 0. 0.]\n",
      "  [0. 2. 1. 1. 2. 0. 0.]\n",
      "  [0. 1. 0. 0. 1. 0. 0.]\n",
      "  [0. 0. 1. 0. 0. 0. 0.]\n",
      "  [0. 1. 0. 2. 1. 0. 0.]\n",
      "  [0. 2. 2. 1. 1. 1. 0.]\n",
      "  [0. 0. 0. 0. 0. 0. 0.]]]\n",
      "0\n",
      "1\n",
      "2\n"
     ]
    },
    {
     "ename": "AssertionError",
     "evalue": "La cantidad de canales del vector de pesos debe ser igual a la cantidad de canales de la imagen",
     "output_type": "error",
     "traceback": [
      "\u001b[0;31m---------------------------------------------------------------------------\u001b[0m",
      "\u001b[0;31mAssertionError\u001b[0m                            Traceback (most recent call last)",
      "\u001b[0;32m<ipython-input-50-46fca0fed7b3>\u001b[0m in \u001b[0;36m<module>\u001b[0;34m\u001b[0m\n\u001b[1;32m     96\u001b[0m \u001b[0;34m\u001b[0m\u001b[0m\n\u001b[1;32m     97\u001b[0m \u001b[0;34m\u001b[0m\u001b[0m\n\u001b[0;32m---> 98\u001b[0;31m \u001b[0my\u001b[0m \u001b[0;34m=\u001b[0m \u001b[0mconv2d\u001b[0m\u001b[0;34m(\u001b[0m\u001b[0mw\u001b[0m\u001b[0;34m,\u001b[0m \u001b[0mx\u001b[0m\u001b[0;34m,\u001b[0m\u001b[0mstrides\u001b[0m\u001b[0;34m=\u001b[0m\u001b[0;34m(\u001b[0m\u001b[0;36m2\u001b[0m\u001b[0;34m,\u001b[0m\u001b[0;36m2\u001b[0m\u001b[0;34m)\u001b[0m\u001b[0;34m,\u001b[0m\u001b[0mpad_size\u001b[0m\u001b[0;34m=\u001b[0m\u001b[0;36m1\u001b[0m\u001b[0;34m)\u001b[0m\u001b[0;34m+\u001b[0m\u001b[0;36m1\u001b[0m \u001b[0;31m# agrego el bias o sesgo\u001b[0m\u001b[0;34m\u001b[0m\u001b[0m\n\u001b[0m\u001b[1;32m     99\u001b[0m \u001b[0;34m\u001b[0m\u001b[0m\n\u001b[1;32m    100\u001b[0m \u001b[0mequal_array\u001b[0m\u001b[0;34m(\u001b[0m\u001b[0my_verdadero\u001b[0m\u001b[0;34m,\u001b[0m\u001b[0my\u001b[0m\u001b[0;34m)\u001b[0m\u001b[0;34m\u001b[0m\u001b[0m\n",
      "\u001b[0;32m<ipython-input-50-46fca0fed7b3>\u001b[0m in \u001b[0;36mconv2d\u001b[0;34m(w, x, strides, pad_size)\u001b[0m\n\u001b[1;32m     31\u001b[0m     \u001b[0mhd\u001b[0m\u001b[0;34m,\u001b[0m\u001b[0mwd\u001b[0m\u001b[0;34m,\u001b[0m\u001b[0mcd\u001b[0m \u001b[0;34m=\u001b[0m \u001b[0mw\u001b[0m\u001b[0;34m.\u001b[0m\u001b[0mshape\u001b[0m \u001b[0;31m#Dims de la matriz de pesos, alto y ancho\u001b[0m\u001b[0;34m\u001b[0m\u001b[0m\n\u001b[1;32m     32\u001b[0m     \u001b[0;32massert\u001b[0m \u001b[0mimpar\u001b[0m\u001b[0;34m(\u001b[0m\u001b[0mhd\u001b[0m\u001b[0;34m)\u001b[0m \u001b[0;32mand\u001b[0m \u001b[0mimpar\u001b[0m\u001b[0;34m(\u001b[0m\u001b[0mwd\u001b[0m\u001b[0;34m)\u001b[0m\u001b[0;34m,\u001b[0m \u001b[0;34m\"Las dimensiones de w deben ser números impares\"\u001b[0m\u001b[0;34m\u001b[0m\u001b[0m\n\u001b[0;32m---> 33\u001b[0;31m     \u001b[0;32massert\u001b[0m \u001b[0mc\u001b[0m\u001b[0;34m==\u001b[0m\u001b[0mcd\u001b[0m\u001b[0;34m,\u001b[0m \u001b[0;34m\"La cantidad de canales del vector de pesos debe ser igual a la cantidad de canales de la imagen\"\u001b[0m\u001b[0;34m\u001b[0m\u001b[0m\n\u001b[0m\u001b[1;32m     34\u001b[0m \u001b[0;34m\u001b[0m\u001b[0m\n\u001b[1;32m     35\u001b[0m     \u001b[0mhy\u001b[0m \u001b[0;34m=\u001b[0m \u001b[0mint\u001b[0m\u001b[0;34m(\u001b[0m \u001b[0;34m(\u001b[0m\u001b[0mhx\u001b[0m \u001b[0;34m-\u001b[0m \u001b[0mhd\u001b[0m\u001b[0;34m)\u001b[0m\u001b[0;34m/\u001b[0m\u001b[0mstride_h\u001b[0m\u001b[0;34m)\u001b[0m \u001b[0;34m+\u001b[0m \u001b[0;36m1\u001b[0m \u001b[0;31m#Alto de la matriz de salida (imagen)\u001b[0m\u001b[0;34m\u001b[0m\u001b[0m\n",
      "\u001b[0;31mAssertionError\u001b[0m: La cantidad de canales del vector de pesos debe ser igual a la cantidad de canales de la imagen"
     ]
    }
   ],
   "source": [
    "def pad2d(x, pad_size):\n",
    "    c,h,w=x.shape\n",
    "    new_shape = (c,h+2*pad_size,w+2*pad_size)\n",
    "    x_relleno = np.zeros(new_shape )\n",
    "    \n",
    "    ##TODO: COMPLETAR\n",
    "    ##x_relleno debe ser igual que x\n",
    "    ##pero agregando pad_size ceros en cada borde\n",
    "    ## OJO ahora x y x_relleno tiene 3 dimensiones (h,w,c)\n",
    "    \n",
    "    x_relleno[:,pad_size: -pad_size,pad_size: -pad_size] = x\n",
    "    print(x_relleno)\n",
    "    return x_relleno\n",
    "def conv2d(w, x, strides = (1,1), pad_size = 0):\n",
    "    \n",
    "    ##TODO: IMPLEMENTAR\n",
    "    ##RELLENAR A X ANTES DE HACER LA CONVOLUCION\n",
    "    if pad_size>0:\n",
    "        x = pad2d(x, pad_size)\n",
    "    ##FIN TODO\n",
    "    \n",
    "    stride_h,stride_w=strides\n",
    "    \n",
    "    hx,wx,c = x.shape #Dims de la matriz de entrada (imagen), alto y ancho\n",
    "    hd,wd,cd = w.shape #Dims de la matriz de pesos, alto y ancho\n",
    "    assert impar(hd) and impar(wd), \"Las dimensiones de w deben ser números impares\"\n",
    "    assert c==cd, \"La cantidad de canales del vector de pesos debe ser igual a la cantidad de canales de la imagen\"\n",
    "    \n",
    "    hy = int( (hx - hd)/stride_h) + 1 #Alto de la matriz de salida (imagen)\n",
    "    wy = int( (wx - wd)/stride_w) + 1 #Ancho de la matriz de salida (imagen)\n",
    "    y = np.zeros( (hy,wy,1) ) #Vector de salida\n",
    "\n",
    "     ## TODO : COMPLETAR\n",
    "     #Calcular la convolución y guardarla en el vector Y\n",
    "     # Pista: Usar un doble for y las variables hy/wy\n",
    "\n",
    "        \n",
    "        \n",
    "        \n",
    "        \n",
    "     ## FIN TODO    \n",
    "    \n",
    "    return y\n",
    "\n",
    "## Creo el filtro W. Ahora tiene una matriz por cada componente de color\n",
    "w_r = np.array([[-1, 0, 1],\n",
    "              [0, 0, 1],\n",
    "              [1, -1, 1]\n",
    "             ])\n",
    "\n",
    "w_g = np.array([[-1, 0, 1],\n",
    "              [1,-1, 1],\n",
    "              [0, 1, 0]\n",
    "             ])\n",
    "\n",
    "w_b = np.array([[-1, 1, 1],\n",
    "              [1, 1, 0],\n",
    "              [0, -1, 0]\n",
    "             ])\n",
    "w= np.stack([w_r,w_g,w_b],axis=0)\n",
    "\n",
    "### Creo la imagen rgb x de 5x5 con 3 canales\n",
    "x_r=np.array([[0,0,1,0,2],\n",
    "              [1,0,2,0,1],\n",
    "              [1,0,2,2,0],\n",
    "              [2,0,0,2,0],\n",
    "              [2,1,2,2,0],\n",
    "             ])\n",
    "\n",
    "x_g=np.array([[2,1,2,1,1],\n",
    "              [2,1,2,0,1],\n",
    "              [0,2,1,0,1],\n",
    "              [1,2,2,2,2],\n",
    "              [0,1,2,0,1],\n",
    "             ])\n",
    "x_b=np.array([[2,1,1,2,0],\n",
    "              [1,0,0,1,0],\n",
    "              [0,1,0,0,0],\n",
    "              [1,0,2,1,0],\n",
    "              [2,2,1,1,1],\n",
    "             ])\n",
    "x= np.stack([x_r,x_g,x_b],axis=0)\n",
    "\n",
    "# El resultado es una imagen de 3x3 con 1 solo canal\n",
    "# Es decir, un solo feature map\n",
    "y_verdadero=np.array([[[2],[3],[3]],\n",
    "                      [[3],[7],[3]],\n",
    "                      [[8],[10],[-3]]\n",
    "                     ])\n",
    "\n",
    "\n",
    "y = conv2d(w, x,strides=(2,2),pad_size=1)+1 # agrego el bias o sesgo\n",
    "\n",
    "equal_array(y_verdadero,y)\n",
    "\n",
    "dibujar_imagenes_rgb(x,y,y_verdadero)\n",
    "\n"
   ]
  },
  {
   "cell_type": "markdown",
   "metadata": {},
   "source": [
    "## 6. Jugando con convoluciones 2D\n",
    "\n",
    "Ahora que has implementado correctamente las convoluciones de 2D, utilizaremos esa operación para filtrar algunas imágenes. Experimenta con varios valores de `w`, `stride` y `pad_size`.\n",
    "\n",
    "\n",
    "En este caso, aplicamos una convolución sobre una [imagen de mario](https://aminoapps.com/c/mario/page/blog/recreating-sprites-3-super-mario-bros-3-small-mario/pXli_QunbM1Yr3Q5NdgWLPnaBEY8N07). Intentá, por ejemplo, resaltar el color rojo.\n",
    "\n",
    "También te sugerimos probar con una imagen de Godzilla y otra de Mercedes Sosa. Tené en cuenta que al ser más grandes, las convoluciones tardan más tiempo.\n",
    "\n",
    "\n"
   ]
  },
  {
   "cell_type": "code",
   "execution_count": null,
   "metadata": {},
   "outputs": [],
   "source": [
    "##MODIFICA LAS VARIABLES STRIDE Y W PARA FILTRAR LA SEÑAL. \n",
    "##PRUEBA CAMBIANDO TANTO LOS VALORES DE W COMO SU TAMAÑO,\n",
    "##PERO RECUERDA QUE SIEMPRE DEBE TENER UNA CANTIDAD IMPAR DE VALORES\n",
    "\n",
    "w_red= np.array([[1, 0, -1],\n",
    "                 [1, 0, -1],\n",
    "                 [1, 0, -1],\n",
    "                ])\n",
    "w_green= np.array([[0, 0, 0],\n",
    "                   [0, 0, 0],\n",
    "                   [0, 0, 0],\n",
    "                  ])\n",
    "w_blue= np.array([[0, 0, 0],\n",
    "                  [0, 3, 0],\n",
    "                  [0, 0, 0],\n",
    "                 ])\n",
    "w = np.stack([w_red,w_green,w_blue],axis=2)\n",
    "pad_size=1\n",
    "strides= (1,1)\n",
    "##FIN MODIFICACION\n",
    "\n",
    "image_name=\"mario.jpg\"\n",
    "image_name=\"godzilla.jpg\"\n",
    "#image_name=\"mercedes.jpg\"\n",
    "\n",
    "x=io.imread(image_name)\n",
    "\n",
    "y=conv2d(w,x,strides=strides,pad_size=pad_size)\n",
    "\n",
    "plt.figure(figsize=(15,10))\n",
    "plt.imshow(x)\n",
    "plt.title(\"Original\")\n",
    "plt.figure(figsize=(15,10))\n",
    "plt.imshow(y[:,:,0],cmap=\"gray\")\n",
    "plt.title(\"Salida de la convolucion (feature map)\")\n"
   ]
  }
 ],
 "metadata": {
  "kernelspec": {
   "display_name": "Python 3",
   "language": "python",
   "name": "python3"
  },
  "language_info": {
   "codemirror_mode": {
    "name": "ipython",
    "version": 3
   },
   "file_extension": ".py",
   "mimetype": "text/x-python",
   "name": "python",
   "nbconvert_exporter": "python",
   "pygments_lexer": "ipython3",
   "version": "3.6.0"
  }
 },
 "nbformat": 4,
 "nbformat_minor": 2
}
