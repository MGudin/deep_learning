{
 "cells": [
  {
   "cell_type": "code",
   "execution_count": 10,
   "metadata": {},
   "outputs": [
    {
     "name": "stdout",
     "output_type": "stream",
     "text": [
      "The autoreload extension is already loaded. To reload it, use:\n",
      "  %reload_ext autoreload\n"
     ]
    }
   ],
   "source": [
    "%load_ext autoreload\n",
    "%autoreload 2"
   ]
  },
  {
   "cell_type": "markdown",
   "metadata": {
    "collapsed": true
   },
   "source": [
    "# Ejercicio 1 -   Regresión Lineal Univariada\n",
    "\n",
    "En este ejercicio, tu objetivo será implementar el método `forward` de un modelo de Regresión Lineal Univariada (es decir, con una sola variable de entrada). No debés implementar ningún otro método.\n",
    "\n",
    "La función se encuentra en la clase `RegresionLinealUnivariada`.\n",
    "\n",
    "Luego, ejecuta las pruebas para verificar que implementaste correctamente el modelo.\n",
    "\n",
    "\n"
   ]
  },
  {
   "cell_type": "code",
   "execution_count": 11,
   "metadata": {},
   "outputs": [],
   "source": [
    "\n",
    "import numpy as np\n",
    "\n",
    "\n",
    "class RegresionLinealUnivariada():\n",
    "    '''\n",
    "    Esta clase permite entrenar modelos de regresión lineal univariada, cuya función de predicciónes:\n",
    "    y = w x + b\n",
    "    Los parámetros w y b son números flotantes\n",
    "    La entrada x debe ser unidimensional.\n",
    "    '''\n",
    "\n",
    "    def __init__(self,w:float,b:float):\n",
    "        self.w=w\n",
    "        self.b=b\n",
    "    \n",
    "    def __repr__(self):\n",
    "        return f\"{self.__class__.__name__}(w = {self.w:.5f}, b = {self.b:.5f})\"\n",
    "\n",
    "    def forward(self,x:np.ndarray):\n",
    "        '''\n",
    "\n",
    "        :param x: vector 1D con valores de entrada\n",
    "        :return: la predicción x*w+b\n",
    "        '''\n",
    "        assert (len(x.shape) == 1)\n",
    "\n",
    "        n=len(x)\n",
    "        y=np.zeros(n)\n",
    "\n",
    "        # TODO calcular la salida y en base a: x, self.w, y self.b\n",
    "        y += self.w * x + self.b\n",
    "        # FIN TODO\n",
    "        assert (len(y) == n)\n",
    "\n",
    "        return y\n",
    "    \n",
    "    def backward(self,x:np.ndarray,y:np.ndarray)->(float,float):\n",
    "        '''\n",
    "        Calcula las derivadas de los parámetros del modelo con respecto \n",
    "        al error cuadrático medio y al conjunto de datos (x,y)\n",
    "        No necesitas implementar nada aqui\n",
    "        :param x: vector 1D con los valores de entrada\n",
    "        :param y: vector 1D con los valores de salida _verdaderos_ \n",
    "        :return derivada del error respecto de w y b\n",
    "        '''\n",
    "        \n",
    "        yhat = self.forward(x)\n",
    "        # calculo de derivadas\n",
    "        dEdw = 2 * ((yhat - y) * x).mean()\n",
    "        dEdb = 2 * (yhat - y).mean()\n",
    "        return dEdw,dEdb\n",
    "\n",
    "    def fit(self,x:np.ndarray,y:np.ndarray,lr:float=0.001,epochs:int=100):\n",
    "        '''\n",
    "        No necesitas implementar nada aqui\n",
    "        Entrena el modelo (ajusta los parámetros) para minimizar el error cuadrático medio\n",
    "        :param x: vector 1D con los valores de entrada\n",
    "        :param y: vector 1D con los valores de salida _verdaderos_ \n",
    "        :param lr: velocidad de aprendizaje (learning rate)\n",
    "        :param epochs: cantidad de iteraciones de aprendizaje\n",
    "        '''\n",
    "        \n",
    "        assert (len(x.shape) == 1)\n",
    "        assert (len(y.shape) == 1)\n",
    "        assert ( len(y) == len(x))\n",
    "        n = len(x)\n",
    "\n",
    "        for i in range(epochs):\n",
    "            dEdw,dEdb=self.backward(x,y)\n",
    "            # actualizo los parámetros\n",
    "            self.w = self.w - lr * dEdw\n",
    "            self.b = self.b - lr * dEdb\n",
    "            print(f\"Epoch {i+1}/{epochs} => Error = {self.error(x,y)}\")\n",
    "        \n",
    "    def error(self,x:np.ndarray,y:np.ndarray)->float:\n",
    "        '''\n",
    "        Error cuadrático medio (MSE) del modelo\n",
    "        :param x: vector 1D con los valores de entrada\n",
    "        :param y: vector 1D con los valores de salida _verdaderos_ \n",
    "        :return flotante con el error promedio del modelo entre todos los ejemplos\n",
    "        '''\n",
    "        \n",
    "        yhat = self.forward(x)\n",
    "        d2 = (y-yhat)**2\n",
    "        return d2.mean()\n",
    "    "
   ]
  },
  {
   "cell_type": "markdown",
   "metadata": {},
   "source": [
    "# Ejecuta el siguiente bloque para verificar que la función `forward` está bien implementada"
   ]
  },
  {
   "cell_type": "code",
   "execution_count": 12,
   "metadata": {},
   "outputs": [
    {
     "name": "stdout",
     "output_type": "stream",
     "text": [
      "Los vectores x e y son iguales:\n",
      "x:  [0. 0. 0.]\n",
      "y:  [0. 0. 0.]\n",
      "Los vectores x e y son iguales:\n",
      "x:  [1. 2. 3.]\n",
      "y:  [1. 2. 3.]\n",
      "Los vectores x e y son iguales:\n",
      "x:  [1. 1. 1.]\n",
      "y:  [1. 1. 1.]\n",
      "Los vectores x e y son iguales:\n",
      "x:  [2. 3. 4.]\n",
      "y:  [2. 3. 4.]\n"
     ]
    }
   ],
   "source": [
    "import utils\n",
    "\n",
    "rl1=RegresionLinealUnivariada(0.0,0.0)\n",
    "x=np.array([1.0,2.0,3.0])\n",
    "y=rl1.forward(x)\n",
    "utils.verificar_igualdad(y,np.zeros(3))\n",
    "\n",
    "\n",
    "\n",
    "rl2=RegresionLinealUnivariada(1.0,0.0)\n",
    "y=rl2.forward(x)\n",
    "utils.verificar_igualdad(y,x)\n",
    "\n",
    "rl3=RegresionLinealUnivariada(0.0,1.0)\n",
    "y=rl3.forward(x)\n",
    "utils.verificar_igualdad(y,np.ones(3))\n",
    "\n",
    "\n",
    "rl4=RegresionLinealUnivariada(1.0,1.0)\n",
    "y=rl4.forward(x)\n",
    "utils.verificar_igualdad(y,np.ones(3)+x)\n"
   ]
  },
  {
   "cell_type": "markdown",
   "metadata": {},
   "source": [
    "# Verifica que el modelo se entrena correctamente."
   ]
  },
  {
   "cell_type": "code",
   "execution_count": 13,
   "metadata": {},
   "outputs": [
    {
     "name": "stdout",
     "output_type": "stream",
     "text": [
      "Inicialización aleatoria del modelo; vuelve a correr esta celda para obtener otros resultados\n",
      "Epoch 1/100 => Error = 2.5920582943357453\n",
      "Epoch 2/100 => Error = 2.5906573655883025\n",
      "Epoch 3/100 => Error = 2.5893758467079957\n",
      "Epoch 4/100 => Error = 2.588096355167417\n",
      "Epoch 5/100 => Error = 2.5868181895461415\n",
      "Epoch 6/100 => Error = 2.5855413443037505\n",
      "Epoch 7/100 => Error = 2.5842658180514073\n",
      "Epoch 8/100 => Error = 2.582991609426439\n",
      "Epoch 9/100 => Error = 2.5817187170677265\n",
      "Epoch 10/100 => Error = 2.580447139615559\n",
      "Epoch 11/100 => Error = 2.579176875711628\n",
      "Epoch 12/100 => Error = 2.5779079239990286\n",
      "Epoch 13/100 => Error = 2.576640283122257\n",
      "Epoch 14/100 => Error = 2.5753739517272147\n",
      "Epoch 15/100 => Error = 2.5741089284611944\n",
      "Epoch 16/100 => Error = 2.5728452119728917\n",
      "Epoch 17/100 => Error = 2.571582800912395\n",
      "Epoch 18/100 => Error = 2.5703216939311897\n",
      "Epoch 19/100 => Error = 2.569061889682152\n",
      "Epoch 20/100 => Error = 2.567803386819551\n",
      "Epoch 21/100 => Error = 2.566546183999046\n",
      "Epoch 22/100 => Error = 2.5652902798776838\n",
      "Epoch 23/100 => Error = 2.5640356731139007\n",
      "Epoch 24/100 => Error = 2.562782362367515\n",
      "Epoch 25/100 => Error = 2.5615303462997328\n",
      "Epoch 26/100 => Error = 2.560279623573144\n",
      "Epoch 27/100 => Error = 2.5590301928517167\n",
      "Epoch 28/100 => Error = 2.5577820528008006\n",
      "Epoch 29/100 => Error = 2.5565352020871233\n",
      "Epoch 30/100 => Error = 2.5552896393787936\n",
      "Epoch 31/100 => Error = 2.55404536334529\n",
      "Epoch 32/100 => Error = 2.552802372657471\n",
      "Epoch 33/100 => Error = 2.551560665987564\n",
      "Epoch 34/100 => Error = 2.5503202420091697\n",
      "Epoch 35/100 => Error = 2.54908109939726\n",
      "Epoch 36/100 => Error = 2.547843236828174\n",
      "Epoch 37/100 => Error = 2.5466066529796194\n",
      "Epoch 38/100 => Error = 2.545371346530667\n",
      "Epoch 39/100 => Error = 2.5441373161617555\n",
      "Epoch 40/100 => Error = 2.542904560554687\n",
      "Epoch 41/100 => Error = 2.5416730783926216\n",
      "Epoch 42/100 => Error = 2.5404428683600835\n",
      "Epoch 43/100 => Error = 2.539213929142953\n",
      "Epoch 44/100 => Error = 2.537986259428468\n",
      "Epoch 45/100 => Error = 2.536759857905227\n",
      "Epoch 46/100 => Error = 2.535534723263177\n",
      "Epoch 47/100 => Error = 2.5343108541936203\n",
      "Epoch 48/100 => Error = 2.5330882493892144\n",
      "Epoch 49/100 => Error = 2.5318669075439635\n",
      "Epoch 50/100 => Error = 2.5306468273532223\n",
      "Epoch 51/100 => Error = 2.5294280075136935\n",
      "Epoch 52/100 => Error = 2.5282104467234245\n",
      "Epoch 53/100 => Error = 2.5269941436818084\n",
      "Epoch 54/100 => Error = 2.5257790970895835\n",
      "Epoch 55/100 => Error = 2.5245653056488293\n",
      "Epoch 56/100 => Error = 2.5233527680629657\n",
      "Epoch 57/100 => Error = 2.5221414830367492\n",
      "Epoch 58/100 => Error = 2.5209314492762815\n",
      "Epoch 59/100 => Error = 2.5197226654889926\n",
      "Epoch 60/100 => Error = 2.5185151303836535\n",
      "Epoch 61/100 => Error = 2.5173088426703676\n",
      "Epoch 62/100 => Error = 2.5161038010605683\n",
      "Epoch 63/100 => Error = 2.5149000042670235\n",
      "Epoch 64/100 => Error = 2.513697451003831\n",
      "Epoch 65/100 => Error = 2.512496139986413\n",
      "Epoch 66/100 => Error = 2.511296069931521\n",
      "Epoch 67/100 => Error = 2.510097239557234\n",
      "Epoch 68/100 => Error = 2.5088996475829526\n",
      "Epoch 69/100 => Error = 2.5077032927294014\n",
      "Epoch 70/100 => Error = 2.506508173718625\n",
      "Epoch 71/100 => Error = 2.505314289273991\n",
      "Epoch 72/100 => Error = 2.504121638120182\n",
      "Epoch 73/100 => Error = 2.5029302189832032\n",
      "Epoch 74/100 => Error = 2.5017400305903688\n",
      "Epoch 75/100 => Error = 2.500551071670316\n",
      "Epoch 76/100 => Error = 2.4993633409529865\n",
      "Epoch 77/100 => Error = 2.4981768371696425\n",
      "Epoch 78/100 => Error = 2.49699155905285\n",
      "Epoch 79/100 => Error = 2.495807505336489\n",
      "Epoch 80/100 => Error = 2.4946246747557446\n",
      "Epoch 81/100 => Error = 2.493443066047108\n",
      "Epoch 82/100 => Error = 2.4922626779483785\n",
      "Epoch 83/100 => Error = 2.491083509198658\n",
      "Epoch 84/100 => Error = 2.489905558538349\n",
      "Epoch 85/100 => Error = 2.4887288247091575\n",
      "Epoch 86/100 => Error = 2.4875533064540907\n",
      "Epoch 87/100 => Error = 2.486379002517449\n",
      "Epoch 88/100 => Error = 2.4852059116448335\n",
      "Epoch 89/100 => Error = 2.4840340325831427\n",
      "Epoch 90/100 => Error = 2.482863364080566\n",
      "Epoch 91/100 => Error = 2.481693904886588\n",
      "Epoch 92/100 => Error = 2.480525653751986\n",
      "Epoch 93/100 => Error = 2.4793586094288234\n",
      "Epoch 94/100 => Error = 2.478192770670459\n",
      "Epoch 95/100 => Error = 2.4770281362315334\n",
      "Epoch 96/100 => Error = 2.475864704867977\n",
      "Epoch 97/100 => Error = 2.474702475337006\n",
      "Epoch 98/100 => Error = 2.4735414463971175\n",
      "Epoch 99/100 => Error = 2.472381616808094\n",
      "Epoch 100/100 => Error = 2.4712229853309964\n"
     ]
    },
    {
     "data": {
      "image/png": "[encoded data removed]",
      "text/plain": [
       "<Figure size 432x288 with 1 Axes>"
      ]
     },
     "metadata": {
      "needs_background": "light"
     },
     "output_type": "display_data"
    },
    {
     "data": {
      "image/png": "[encoded data removed]",
      "text/plain": [
       "<Figure size 432x288 with 1 Axes>"
      ]
     },
     "metadata": {
      "needs_background": "light"
     },
     "output_type": "display_data"
    }
   ],
   "source": [
    "# Carga del dataset\n",
    "import os\n",
    "dataset_path=os.path.join(\"datasets_simples\",\"study_regression_small.csv\")\n",
    "\n",
    "\n",
    "data=np.loadtxt(open(dataset_path, \"rb\"), delimiter=\",\", skiprows=1)\n",
    "x,y=data[:,0],data[:,1]\n",
    "\n",
    "print(\"Inicialización aleatoria del modelo; vuelve a correr esta celda para obtener otros resultados\")\n",
    "w_random=np.random.rand()\n",
    "b_random=np.random.rand()\n",
    "rl=RegresionLinealUnivariada(w_random,b_random)\n",
    "\n",
    "# visualiza el modelo inicial aleatorio y los datos\n",
    "utils.plot_regresion_lineal_univariada(rl.w,rl.b,x,y,title=\"Modelo Inicial: \")\n",
    "\n",
    "# entrena el modelo\n",
    "rl.fit(x,y,lr=0.001,epochs=100)\n",
    "\n",
    "#visualiza el modelo entrenado\n",
    "utils.plot_regresion_lineal_univariada(rl.w,rl.b,x,y,title=\"Modelo Final: \")\n"
   ]
  }
 ],
 "metadata": {
  "kernelspec": {
   "display_name": "Python 3",
   "language": "python",
   "name": "python3"
  },
  "language_info": {
   "codemirror_mode": {
    "name": "ipython",
    "version": 3
   },
   "file_extension": ".py",
   "mimetype": "text/x-python",
   "name": "python",
   "nbconvert_exporter": "python",
   "pygments_lexer": "ipython3",
   "version": "3.7.4"
  }
 },
 "nbformat": 4,
 "nbformat_minor": 1
}
