{
 "cells": [
  {
   "cell_type": "markdown",
   "metadata": {
    "colab_type": "text",
    "id": "aSP9HcqNsdvB"
   },
   "source": [
    "# Procesamiento de imágenes con Python y Numpy\n",
    "\n",
    "\n",
    "\n",
    "**Objetivo**: Aprender a visualizar, generar, cargar y modificar imágenes en blanco y negro o color a través de las operaciones de matrices de la librería Numpy y las facilidades de las librerías PyPlot y skimage.\n",
    "\n",
    "**Conocimientos previos**: Conceptos básicos de imágenes digitales color y escala de grises. Programación en Python con la librería Numpy.\n",
    "\n",
    "**Importante**: Para que este cuaderno funcione correctamente, las imágenes 'lena.png' y 'lena_gris.png' deben encontrarse en el mismo directorio que el cuaderno.\n",
    "\n",
    "## Creando matrices y visualizándolas como imágenes\n",
    "\n",
    "Las imágenes se codifican como matrices. En particular, las imágenes de intensidad o escala de grises se codifican como una matriz de dos dimensiones, donde cada número representa la intensidad de un pixel.\n",
    "\n",
    "Pero eso significa que cualquiera de estas matrices que generamos se puede visualizar como una matriz. Para visualizar imágenes, usamos el módulo `pyplot` de  la librería `matplotlib`.\n"
   ]
  },
  {
   "cell_type": "code",
   "execution_count": 1,
   "metadata": {
    "colab": {},
    "colab_type": "code",
    "id": "Y092Q88PsdvG"
   },
   "outputs": [],
   "source": [
    "# importamos el modulo pyplot, y lo llamamos plt\n",
    "import matplotlib.pyplot as plt\n",
    "\n",
    "#configuracion necesaria de pyplot para ver las imagenes en escala de grises\n",
    "plt.rcParams['image.cmap'] = 'gray'\n",
    "\n",
    "\n",
    "# comando de Jupyter para que las imagenes se muestren automaticamente \n",
    "%matplotlib inline\n",
    "\n",
    "#tambien importamos numpy ya que lo usamos para crear y manipular matrices\n",
    "import numpy as np\n"
   ]
  },
  {
   "cell_type": "markdown",
   "metadata": {
    "colab_type": "text",
    "id": "Lg26qonBsdvR"
   },
   "source": [
    "La función que nos permite visualizar matrices es `imshow` del modulo `pyplot`, que invocaremos como `plt.imshow`, y recibe la imagen como parámetro.\n",
    "\n",
    "Debido a que pyplot intenta ajustar los colores automaticamente de una imagen, vamos a pasarle como parámetros también `vmin=0,vmax=1`. Si bien no los vimos antes, estos se llaman *keyword parameters* o *parámetros por palabra clave* de python."
   ]
  },
  {
   "cell_type": "code",
   "execution_count": 2,
   "metadata": {
    "colab": {},
    "colab_type": "code",
    "id": "sr-geIE3sdvU"
   },
   "outputs": [
    {
     "data": {
      "text/plain": [
       "<matplotlib.image.AxesImage at 0x7f021493db00>"
      ]
     },
     "execution_count": 2,
     "metadata": {},
     "output_type": "execute_result"
    },
    {
     "data": {
      "image/png": "[encoded data removed]",
      "text/plain": [
       "<Figure size 432x288 with 1 Axes>"
      ]
     },
     "metadata": {
      "needs_background": "light"
     },
     "output_type": "display_data"
    }
   ],
   "source": [
    "#tamaño de las matrices a visualizar\n",
    "size=(20,30)\n",
    "\n",
    "# Una matriz de ceros. \n",
    "imagen_negra = np.zeros(size)\n",
    "\n",
    "#visualizamos la matriz\n",
    "#Se ve como una imagen negra, ya que todos los elementos (pixeles) tienen intensidad 0\n",
    "plt.imshow(imagen_negra,vmin=0,vmax=1)\n",
    "# (es necesario indicar vmin y vmax para que pyplot sepa que el minimo es 0 y el maximo 1)\n",
    "# (solo imagenes escala de grises)"
   ]
  },
  {
   "cell_type": "markdown",
   "metadata": {
    "colab_type": "text",
    "id": "TM1jixoMsdva"
   },
   "source": [
    "También podemos generar imágenes blancas, o grises. Si queremos mostrar más de una imagen en una celda, vamos a tener que ejecutar `plt.figure()` para crear la figura que contenga la imagen."
   ]
  },
  {
   "cell_type": "code",
   "execution_count": 3,
   "metadata": {
    "colab": {},
    "colab_type": "code",
    "id": "S9Hkrqwhsdvc"
   },
   "outputs": [
    {
     "data": {
      "text/plain": [
       "<matplotlib.image.AxesImage at 0x7f01ea713ef0>"
      ]
     },
     "execution_count": 3,
     "metadata": {},
     "output_type": "execute_result"
    },
    {
     "data": {
      "image/png": "[encoded data removed]",
      "text/plain": [
       "<Figure size 432x288 with 1 Axes>"
      ]
     },
     "metadata": {
      "needs_background": "light"
     },
     "output_type": "display_data"
    },
    {
     "data": {
      "image/png": "[encoded data removed]",
      "text/plain": [
       "<Figure size 432x288 with 1 Axes>"
      ]
     },
     "metadata": {
      "needs_background": "light"
     },
     "output_type": "display_data"
    }
   ],
   "source": [
    "# IMAGEN BLANCA\n",
    "# Una matriz de unos. \n",
    "imagen_blanca = np.ones(size)\n",
    "\n",
    "#visualizamos la matriz\n",
    "#Se ve como una imagen blanca, ya que todos los elementos (pixeles) tienen intensidad 1\n",
    "plt.imshow(imagen_blanca,vmin=0,vmax=1)\n",
    "\n",
    "#creamos otra figura para mostrar la imagen (sino el proximo imshow sobreescribe al anterior)\n",
    "plt.figure()\n",
    "\n",
    "# IMAGEN GRIS\n",
    "# Una matriz con valor 0.5 en todos sus elementos \n",
    "imagen_gris = np.ones(size)*0.5\n",
    "\n",
    "#visualizamos la matriz\n",
    "#Se ve como una imagen gris, ya que todos los elementos (pixeles) tienen intensidad 0.5\n",
    "plt.imshow(imagen_gris,vmin=0,vmax=1)\n"
   ]
  },
  {
   "cell_type": "code",
   "execution_count": 0,
   "metadata": {
    "colab": {},
    "colab_type": "code",
    "id": "EXrlfhNAsdvj"
   },
   "outputs": [],
   "source": [
    "# IMAGEN GRIS OSCURO\n",
    "# Una matriz con valor 0.2 en todos sus elementos \n",
    "imagen_gris_oscuro = np.ones(size)*0.2\n",
    "\n",
    "#visualizamos la matriz\n",
    "#Se ve como una imagen gris, ya que todos los elementos (pixeles) tienen intensidad 0.5\n",
    "plt.imshow(imagen_gris_oscuro,vmin=0,vmax=1)\n",
    "\n",
    "#creamos otra figura para mostrar la imagen (sino el proximo imshow sobreescribe al anterior)\n",
    "plt.figure()\n",
    "\n",
    "# IMAGEN ALEATORIA\n",
    "# Una matriz con valor aleatorio\n",
    "imagen_aleatoria = np.random.rand(size[0],size[1])\n",
    "\n",
    "#visualizamos la matriz\n",
    "#Se ve como una imagen gris, ya que todos los elementos (pixeles) tienen intensidad 0.5\n",
    "plt.imshow(imagen_aleatoria,vmin=0,vmax=1)\n"
   ]
  },
  {
   "cell_type": "code",
   "execution_count": 8,
   "metadata": {
    "colab": {},
    "colab_type": "code",
    "id": "pTxG5kjwsdvo"
   },
   "outputs": [
    {
     "name": "stdout",
     "output_type": "stream",
     "text": [
      "10.0\n"
     ]
    },
    {
     "data": {
      "text/plain": [
       "<matplotlib.image.AxesImage at 0x7f01ea62ed68>"
      ]
     },
     "execution_count": 8,
     "metadata": {},
     "output_type": "execute_result"
    },
    {
     "data": {
      "image/png": "[encoded data removed]",
      "text/plain": [
       "<Figure size 432x288 with 1 Axes>"
      ]
     },
     "metadata": {
      "needs_background": "light"
     },
     "output_type": "display_data"
    }
   ],
   "source": [
    "#Ejercicio\n",
    "# Generar una imagen que sea toda blanca de la mitad para abajo\n",
    "# Y que la mitad derecha de la parte de arriba sea gris\n",
    "#      NG\n",
    "#      BB\n",
    "\n",
    "imagen_negra = np.zeros((20,30))\n",
    "\n",
    "#IMPLEMENTAR - COMIENZO\n",
    "filas,cols = imagen_negra.shape\n",
    "imagen_negra[int(filas/2):filas,:] = 1\n",
    "imagen_negra[0:int(filas/2), int(cols/2):cols] = 0.5\n",
    "#IMPLEMENTAR - FIN\n",
    "\n",
    "plt.imshow(imagen_negra)"
   ]
  },
  {
   "cell_type": "code",
   "execution_count": 0,
   "metadata": {
    "colab": {},
    "colab_type": "code",
    "id": "8jpAvenLsdvt"
   },
   "outputs": [],
   "source": [
    "#Ejercicio para repasar (NO SE HARA EN EL TALLER)\n",
    "# Modificar la variable imagen_gradiente para que cada fila tenga una intensidad creciente\n",
    "# La fila 0 debe tener intensidad 0\n",
    "# La fila 1 debe tener intensidad 0.1\n",
    "# La fila 1 debe tener intensidad 0.2\n",
    "# ...\n",
    "# La fila 9 debe tener intensidad 0.9\n",
    "# La fila 10 debe tener intensidad 1\n",
    "\n",
    "imagen_gradiente = np.zeros((11,20))\n",
    "\n",
    "#IMPLEMENTAR - COMIENZO\n",
    "\n",
    "#IMPLEMENTAR - FIN\n",
    "\n",
    "plt.imshow(imagen_gradiente)"
   ]
  },
  {
   "cell_type": "markdown",
   "metadata": {
    "colab_type": "text",
    "id": "jPvotlqGsdvy"
   },
   "source": [
    "## Lectura de imágenes\n",
    "\n",
    "Para leer imágenes utilizaremos el módulo `io` de la librería `skimage`. En ese módulo tenemos la función `imread` para leer imágenes de un archivo(y también la función `imsave` para escribirlas a un archivo)."
   ]
  },
  {
   "cell_type": "code",
   "execution_count": 0,
   "metadata": {
    "colab": {},
    "colab_type": "code",
    "id": "EW2uSmM1sdv2"
   },
   "outputs": [],
   "source": [
    "from skimage import io\n",
    "\n",
    "\n",
    "image=io.imread(\"lena_gray.png\")/255.0 # imread lee las imagenes con los pixeles codificados como enteros \n",
    "# en el rango 0-255. Por eso la convertimos a flotante y en el rango 0-1\n",
    "\n",
    "print(\"- Dimensiones de la imagen:\")\n",
    "print(image.shape)\n",
    "plt.imshow(image,vmin=0,vmax=1)\n"
   ]
  },
  {
   "cell_type": "markdown",
   "metadata": {
    "colab_type": "text",
    "id": "_RVE09gtsdv8"
   },
   "source": [
    "Esta es la imágen de Lena; es extremadamente conocida en el área de procesamiento de imágenes porque siempre se usa para evaluar nuevas técnicas y efectos."
   ]
  },
  {
   "cell_type": "markdown",
   "metadata": {
    "colab_type": "text",
    "id": "L1kCo5ePsdv9"
   },
   "source": [
    "## Imágenes a color\n",
    "\n",
    "También podemos cargar imágenes a color con `imread`.\n"
   ]
  },
  {
   "cell_type": "code",
   "execution_count": 0,
   "metadata": {
    "colab": {},
    "colab_type": "code",
    "id": "V3MM6HMksdv_"
   },
   "outputs": [],
   "source": [
    "lena_rgb=io.imread(\"lena.png\")/255.0 # imread lee las imagenes con los pixeles codificados como enteros \n",
    "# en el rango 0-255. Por eso la convertimos a flotante y en el rango 0-1\n",
    "plt.imshow(lena_rgb) # no es necesario el vmin/vmax para imágenes a color\n",
    "\n",
    "print(\"Dimensiones de la imagen:\")\n",
    "print(lena_rgb.shape)"
   ]
  },
  {
   "cell_type": "markdown",
   "metadata": {
    "colab_type": "text",
    "id": "y4PdkubcsdwE"
   },
   "source": [
    "En este caso, tenemos tres dimensiones. Las primeras dos, de tamaño $512$, corresponden a la cantidad de pixeles de la imagen. La última, de tamaño 3, contiene los tres canales R, G y B de la imagen.\n"
   ]
  },
  {
   "cell_type": "markdown",
   "metadata": {
    "colab_type": "text",
    "id": "TpM3iEHrsdwH"
   },
   "source": [
    "Podemos ver cada canal individualmente, como si el canal fuera una imagen en escala de grises, para ver la intensidad de cada canal."
   ]
  },
  {
   "cell_type": "code",
   "execution_count": 0,
   "metadata": {
    "colab": {},
    "colab_type": "code",
    "id": "B5_zU1ccsdwK"
   },
   "outputs": [],
   "source": [
    "\n",
    "plt.imshow(lena_rgb[:,:,0],vmin=0,vmax=1)\n",
    "plt.title(\"Canal Rojo\")\n",
    "plt.figure()\n",
    "plt.imshow(lena_rgb[:,:,1],vmin=0,vmax=1)\n",
    "plt.title(\"Canal Verde\")\n",
    "plt.figure()\n",
    "plt.imshow(lena_rgb[:,:,2],vmin=0,vmax=1)\n",
    "plt.title(\"Canal Azul\")\n"
   ]
  },
  {
   "cell_type": "markdown",
   "metadata": {
    "colab_type": "text",
    "id": "HibKMZoKsdwO"
   },
   "source": [
    "Podemos ver que el canal rojo es el más activo, ya que la imagen contiene mucha piel y un fondo crema/anaranjado. Además, el canal verde es el que tiene más detalles de la imagen.\n",
    "\n",
    "Otra manera de ver la información de cada canal es quitar la información de los otros canales. Por ejemplo, para ver el canal rojo, ponemos en 0 los canales azul y verde."
   ]
  },
  {
   "cell_type": "code",
   "execution_count": 0,
   "metadata": {
    "colab": {},
    "colab_type": "code",
    "id": "-2E-ohfesdwP"
   },
   "outputs": [],
   "source": [
    "lena_red=np.copy(lena_rgb) # creo una copia de la imagen para preservar la original\n",
    "lena_red[:,:,1]=0\n",
    "lena_red[:,:,2]=0\n",
    "plt.title(\"Lena_ canal rojo\")\n",
    "plt.imshow(lena_red)"
   ]
  },
  {
   "cell_type": "markdown",
   "metadata": {
    "colab_type": "text",
    "id": "pL6O1oBqsdwW"
   },
   "source": [
    "Podemos observar que sin los canales azul y verde perdemos bastante información de color, aunque la silueta se mantiene. \n",
    "\n",
    "Ahora probemos quitando sólo un canal, por ejemplo, el azul:"
   ]
  },
  {
   "cell_type": "code",
   "execution_count": 0,
   "metadata": {
    "colab": {},
    "colab_type": "code",
    "id": "1NtwYmmdsdwa"
   },
   "outputs": [],
   "source": [
    "lena_red_green=np.copy(lena_rgb) # creo una copia de la imagen para preservar la original\n",
    "lena_red_green[:,:,2]=0\n",
    "plt.title(\"Lena_ sin canal azul\")\n",
    "plt.imshow(lena_red_green)"
   ]
  },
  {
   "cell_type": "markdown",
   "metadata": {
    "colab_type": "text",
    "id": "OTCxbEfrsdwe"
   },
   "source": [
    "De nuevo, se ha perdido información color, pero mucho menos, ya que justamente el canal azul era el menos importante."
   ]
  },
  {
   "cell_type": "markdown",
   "metadata": {
    "colab_type": "text",
    "id": "Fy11lZHDsdwg"
   },
   "source": [
    "### Conversión de color a escala de grises\n",
    "\n",
    "La conversión de una imagen de color a escala de grises se puede hacer de varias formas. \n",
    "\n",
    "El pixel $(1,1,1)$ representa el blanco y el $(0,0,0)$ el negro en RGB. Entonces, cuanto más grandes son los valores de los canales, más \"blanco\" es el pixel y viceversa. \n",
    "\n",
    "Por eso, una forma simple para hacer la conversión consiste en sacar el promedio de los canales y usar eso como la intensidad. \n",
    "\n",
    "Entonces cada trio $(r,g,b)$ que representa un pixel se reemplaza por su promedio $\\frac{(r+g+b)}{3}$."
   ]
  },
  {
   "cell_type": "code",
   "execution_count": 0,
   "metadata": {
    "colab": {},
    "colab_type": "code",
    "id": "eLJdighZsdwh"
   },
   "outputs": [],
   "source": [
    "# Ejercicio: Convertir la imagen de lena color a escala de grises\n",
    "\n",
    "h,w,c=lena_rgb.shape # obtenemos el tamaño de la imagen original\n",
    "\n",
    "lena_gris=np.zeros((h,w)) # creamos una matriz donde generar la imagen\n",
    "\n",
    "for i in range(h):\n",
    "    for j in range(w):\n",
    "        \n",
    "        #IMPLEMENTAR - COMIENZO\n",
    "        # calcular el promedio de los canales r,g,b del pixel i,j con la imagen original\n",
    "        # guardar ese promedio en el pixel i,j de la imagen generada\n",
    "        pass\n",
    "        #IMPLEMENTAR - FIN\n",
    "\n",
    "plt.imshow(lena_gris)        "
   ]
  },
  {
   "cell_type": "code",
   "execution_count": 0,
   "metadata": {
    "colab": {},
    "colab_type": "code",
    "id": "Msm7e5Lfsdwl"
   },
   "outputs": [],
   "source": [
    "# Ejercicio: Convertir la imagen de lena color a escala de grises, pero sin usar fors\n",
    "# Tomar cada canal como una imagen por separado\n",
    "# Utilizando suma de matrices (o sea, de imágenes),\n",
    "# Suma los canales y dividi el resultado por 3.\n",
    "\n",
    "#IMPLEMENTAR - COMIENZO\n",
    "lena_gris_simple=0 \n",
    "#IMPLEMENTAR - FIN\n",
    "\n",
    "#plt.imshow(lena_gris_simple) #descomentar para probar\n"
   ]
  },
  {
   "cell_type": "markdown",
   "metadata": {
    "colab_type": "text",
    "id": "IOkB-Wxrsdwr"
   },
   "source": [
    "### Guardar imágenes\n",
    "\n",
    "Guardar imágenes es tan simple como cargarlas con la función `imsave` del módulo `skimage.io`.\n"
   ]
  },
  {
   "cell_type": "code",
   "execution_count": 0,
   "metadata": {
    "colab": {},
    "colab_type": "code",
    "id": "eHlGdTw3sdwr"
   },
   "outputs": [],
   "source": [
    "#guardamos la imagen de lena gris generada\n",
    "\n",
    "io.imsave(\"lena_generada.png\",lena_gris)\n"
   ]
  }
 ],
 "metadata": {
  "colab": {
   "name": "Practica 3 - Procesamiento de imágenes.ipynb",
   "provenance": []
  },
  "kernelspec": {
   "display_name": "Python 3",
   "language": "python",
   "name": "python3"
  },
  "language_info": {
   "codemirror_mode": {
    "name": "ipython",
    "version": 3
   },
   "file_extension": ".py",
   "mimetype": "text/x-python",
   "name": "python",
   "nbconvert_exporter": "python",
   "pygments_lexer": "ipython3",
   "version": "3.6.0"
  }
 },
 "nbformat": 4,
 "nbformat_minor": 1
}
